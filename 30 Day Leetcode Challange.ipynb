{
 "cells": [
  {
   "cell_type": "markdown",
   "metadata": {},
   "source": [
    "# Week 1"
   ]
  },
  {
   "cell_type": "markdown",
   "metadata": {},
   "source": [
    "1. Given a non-empty array of integers, every element appears twice except for one. Find that single one."
   ]
  },
  {
   "cell_type": "code",
   "execution_count": 2,
   "metadata": {},
   "outputs": [],
   "source": [
    "def singleNumber(nums) -> int:\n",
    "    res = nums[0]\n",
    "    for i in range(1, len(nums)):\n",
    "        res = res ^ nums[i]\n",
    "    return res"
   ]
  },
  {
   "cell_type": "markdown",
   "metadata": {},
   "source": [
    "2. Write an algorithm to determine if a number n is \"happy\".\n",
    "\n",
    "    A happy number is a number defined by the following process: Starting with any positive integer, replace the number by the sum of the squares of its digits, and repeat the process until the number equals 1 (where it will stay), or it loops endlessly in a cycle which does not include 1. Those numbers for which this process ends in 1 are happy numbers.\n",
    "\n",
    "    Return True if n is a happy number, and False if not."
   ]
  },
  {
   "cell_type": "code",
   "execution_count": 3,
   "metadata": {},
   "outputs": [],
   "source": [
    "def isHappy(n) -> bool:\n",
    "    found = False\n",
    "    checked = []\n",
    "        \n",
    "    while found != True:\n",
    "        stringed = str(n)\n",
    "        total = 0\n",
    "        for i in range(len(stringed)):\n",
    "            total += int(stringed[i])**2\n",
    "                \n",
    "        if(total in checked):\n",
    "            return found\n",
    "        if(total == 1):\n",
    "            found = True\n",
    "                \n",
    "        checked.append(total)\n",
    "        n = total\n",
    "    return found"
   ]
  }
 ],
 "metadata": {
  "kernelspec": {
   "display_name": "Python 3",
   "language": "python",
   "name": "python3"
  },
  "language_info": {
   "codemirror_mode": {
    "name": "ipython",
    "version": 3
   },
   "file_extension": ".py",
   "mimetype": "text/x-python",
   "name": "python",
   "nbconvert_exporter": "python",
   "pygments_lexer": "ipython3",
   "version": "3.7.1"
  }
 },
 "nbformat": 4,
 "nbformat_minor": 2
}
